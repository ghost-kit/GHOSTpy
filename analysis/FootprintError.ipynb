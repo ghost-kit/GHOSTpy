{
 "cells": [
  {
   "cell_type": "code",
   "execution_count": 1,
   "metadata": {
    "collapsed": true
   },
   "outputs": [],
   "source": [
    "%matplotlib inline\n",
    "import matplotlib\n",
    "import numpy as np\n",
    "import matplotlib.pylab as plt\n",
    "import ghostpy.Invariants.LShell as ls\n",
    "import ghostpy.algorithms.convert as algx\n",
    "import ghostpy.algorithms.common as algc\n",
    "import ghostpy.algorithms.FieldTracers as ft\n",
    "import ghostpy.algorithms.DipoleField as df\n",
    "import ghostpy.data.VtkData as vdt\n",
    "import ghostpy.data.LfmVtkData as lvdt\n",
    "import ghostpy.data.DipoleData as dpd\n",
    "import ghostpy.data.GpData as gpd\n",
    "import ghostpy.plotting.FieldLinePlot as flplt\n",
    "import ghostpy.Invariants.FieldLine as fl\n",
    "import csv"
   ]
  },
  {
   "cell_type": "code",
   "execution_count": 3,
   "metadata": {},
   "outputs": [
    {
     "name": "stdout",
     "output_type": "stream",
     "text": [
      "Data Sources Configured.\n"
     ]
    }
   ],
   "source": [
    "data_dpg3 = vdt.VtkData(filename=\"/Users/jjm390/src/ghostpy/ghostpy/unit_tests/test_data/dipole_dp0_3_grid.vts\", vector=\"B\")\n",
    "data_dpg7 = vdt.VtkData(filename=\"/Users/jjm390/src/ghostpy/ghostpy/unit_tests/test_data/dipole_dp0_7_grid.vts\", vector=\"B\")\n",
    "data_dpg9 = vdt.VtkData(filename=\"/Users/jjm390/src/ghostpy/ghostpy/unit_tests/test_data/dipole_dp0_9_grid.vts\", vector=\"B\")\n",
    "print (\"Data Sources Configured.\")"
   ]
  },
  {
   "cell_type": "code",
   "execution_count": 4,
   "metadata": {},
   "outputs": [
    {
     "name": "stdout",
     "output_type": "stream",
     "text": [
      "Data Sources Configured.\n"
     ]
    }
   ],
   "source": [
    "data_dpg13 = vdt.VtkData(filename=\"/Users/jjm390/src/ghostpy/ghostpy/unit_tests/test_data/dipole_dp0_13_grid.vts\", vector=\"B\")\n",
    "data_dpg17 = vdt.VtkData(filename=\"/Users/jjm390/src/ghostpy/ghostpy/unit_tests/test_data/dipole_dp0_17_grid.vts\", vector=\"B\")\n",
    "data_dpg19 = vdt.VtkData(filename=\"/Users/jjm390/src/ghostpy/ghostpy/unit_tests/test_data/dipole_dp0_19_grid.vts\", vector=\"B\")\n",
    "print (\"Data Sources Configured.\")"
   ]
  },
  {
   "cell_type": "code",
   "execution_count": 5,
   "metadata": {},
   "outputs": [],
   "source": [
    "tcount = 10\n",
    "\n",
    "relist = np.linspace(start=2.5, stop=10.5, num=tcount, endpoint=True)\n",
    "# philist = np.linspace(start=0, stop=np.pi*2, num=tcount, endpoint=False)\n",
    "philist = 0\n",
    "zlist = 0\n",
    "\n",
    "# loclist = np.column_stack((relist, zlist, philist))\n",
    "\n",
    "x,y,z = algc.sphere_to_cart(r=relist, lam=zlist, phi=philist)\n",
    "\n",
    "loclist = np.column_stack((x,y,z))"
   ]
  },
  {
   "cell_type": "code",
   "execution_count": 6,
   "metadata": {},
   "outputs": [
    {
     "name": "stdout",
     "output_type": "stream",
     "text": [
      "Location List: \n[[  2.5          0.           0.        ]\n [  3.38888889   0.           0.        ]\n [  4.27777778   0.           0.        ]\n [  5.16666667   0.           0.        ]\n [  6.05555556   0.           0.        ]\n [  6.94444444   0.           0.        ]\n [  7.83333333   0.           0.        ]\n [  8.72222222   0.           0.        ]\n [  9.61111111   0.           0.        ]\n [ 10.5          0.           0.        ]]\n"
     ]
    }
   ],
   "source": [
    "print (\"Location List: \\n{}\".format(loclist))"
   ]
  },
  {
   "cell_type": "code",
   "execution_count": 7,
   "metadata": {},
   "outputs": [],
   "source": [
    "fp3 = []\n",
    "fp_ideal = []\n",
    "fp7 = []\n",
    "fp9 = []\n",
    "fp13 = []\n",
    "fp17 = []\n",
    "fp19 = []\n",
    "Ls = []"
   ]
  },
  {
   "cell_type": "code",
   "execution_count": 8,
   "metadata": {},
   "outputs": [],
   "source": [
    "fp_ideal = []\n",
    "for loc in loclist:\n",
    "    L = algc.mag(loc)\n",
    "    Ls.append(L)\n",
    "    fp_ideal.append(df.dipole_footprint(L=L, r=1.0))\n",
    "\n",
    "fp_ideal = np.array(fp_ideal)"
   ]
  },
  {
   "cell_type": "code",
   "execution_count": 9,
   "metadata": {},
   "outputs": [
    {
     "name": "stdout",
     "output_type": "stream",
     "text": [
      "Calculating [ 2.5  0.   0. ] on 1/3 RE Square Dipole Grid\n"
     ]
    },
    {
     "name": "stderr",
     "output_type": "stream",
     "text": [
      "/usr/local/lib/python2.7/site-packages/scipy/linalg/basic.py:884: RuntimeWarning: internal gelsd driver lwork query error, required iwork dimension not returned. This is likely the result of LAPACK bug 0038, fixed in LAPACK 3.2.2 (released July 21, 2010). Falling back to 'gelss' driver.\n  warnings.warn(mesg, RuntimeWarning)\n"
     ]
    },
    {
     "name": "stderr",
     "output_type": "stream",
     "text": [
      "ghostpy/Invariants/FieldLine.py:708: RuntimeWarning: invalid value encountered in sqrt\n  k = np.sqrt(int_list[0] - int_list) * ds\n"
     ]
    },
    {
     "name": "stdout",
     "output_type": "stream",
     "text": [
      "Calculating [ 3.38888889  0.          0.        ] on 1/3 RE Square Dipole Grid\n"
     ]
    },
    {
     "name": "stdout",
     "output_type": "stream",
     "text": [
      "Calculating [ 4.27777778  0.          0.        ] on 1/3 RE Square Dipole Grid\n"
     ]
    },
    {
     "name": "stdout",
     "output_type": "stream",
     "text": [
      "Calculating [ 5.16666667  0.          0.        ] on 1/3 RE Square Dipole Grid\n"
     ]
    },
    {
     "name": "stdout",
     "output_type": "stream",
     "text": [
      "Calculating [ 6.05555556  0.          0.        ] on 1/3 RE Square Dipole Grid\n"
     ]
    },
    {
     "name": "stdout",
     "output_type": "stream",
     "text": [
      "Calculating [ 6.94444444  0.          0.        ] on 1/3 RE Square Dipole Grid\n"
     ]
    },
    {
     "name": "stdout",
     "output_type": "stream",
     "text": [
      "Calculating [ 7.83333333  0.          0.        ] on 1/3 RE Square Dipole Grid\n"
     ]
    },
    {
     "name": "stdout",
     "output_type": "stream",
     "text": [
      "Calculating [ 8.72222222  0.          0.        ] on 1/3 RE Square Dipole Grid\n"
     ]
    },
    {
     "name": "stdout",
     "output_type": "stream",
     "text": [
      "Calculating [ 9.61111111  0.          0.        ] on 1/3 RE Square Dipole Grid\n"
     ]
    },
    {
     "name": "stdout",
     "output_type": "stream",
     "text": [
      "Calculating [ 10.5   0.    0. ] on 1/3 RE Square Dipole Grid\n"
     ]
    }
   ],
   "source": [
    "fp3 = []\n",
    "for loc in loclist:\n",
    "    print (\"Calculating {} on 1/3 RE Square Dipole Grid\".format(loc))\n",
    "    fl3 = fl.FieldLine(data=data_dpg3, start=loc, error_tol=1e-6)\n",
    "    fp3.append(fl3.get_footprint_rlp(re=1.0)[1])\n",
    "\n",
    "fp3 = np.array(fp3)"
   ]
  },
  {
   "cell_type": "code",
   "execution_count": 10,
   "metadata": {},
   "outputs": [
    {
     "name": "stdout",
     "output_type": "stream",
     "text": [
      "Calculating [ 2.5  0.   0. ] on 1/7 RE Square Dipole Grid\n"
     ]
    },
    {
     "name": "stdout",
     "output_type": "stream",
     "text": [
      "Calculating [ 3.38888889  0.          0.        ] on 1/7 RE Square Dipole Grid\n"
     ]
    },
    {
     "name": "stdout",
     "output_type": "stream",
     "text": [
      "Calculating [ 4.27777778  0.          0.        ] on 1/7 RE Square Dipole Grid\n"
     ]
    },
    {
     "name": "stdout",
     "output_type": "stream",
     "text": [
      "Calculating [ 5.16666667  0.          0.        ] on 1/7 RE Square Dipole Grid\n"
     ]
    },
    {
     "name": "stdout",
     "output_type": "stream",
     "text": [
      "Calculating [ 6.05555556  0.          0.        ] on 1/7 RE Square Dipole Grid\n"
     ]
    },
    {
     "name": "stdout",
     "output_type": "stream",
     "text": [
      "Calculating [ 6.94444444  0.          0.        ] on 1/7 RE Square Dipole Grid\n"
     ]
    },
    {
     "name": "stdout",
     "output_type": "stream",
     "text": [
      "Calculating [ 7.83333333  0.          0.        ] on 1/7 RE Square Dipole Grid\n"
     ]
    },
    {
     "name": "stdout",
     "output_type": "stream",
     "text": [
      "Calculating [ 8.72222222  0.          0.        ] on 1/7 RE Square Dipole Grid\n"
     ]
    },
    {
     "name": "stdout",
     "output_type": "stream",
     "text": [
      "Calculating [ 9.61111111  0.          0.        ] on 1/7 RE Square Dipole Grid\n"
     ]
    },
    {
     "name": "stdout",
     "output_type": "stream",
     "text": [
      "Calculating [ 10.5   0.    0. ] on 1/7 RE Square Dipole Grid\n"
     ]
    }
   ],
   "source": [
    "fp7 = []\n",
    "for loc in loclist:\n",
    "    print (\"Calculating {} on 1/7 RE Square Dipole Grid\".format(loc))\n",
    "    fl7 = fl.FieldLine(data=data_dpg7, start=loc, error_tol=1e-6)\n",
    "    fp7.append(fl7.get_footprint_rlp(re=1.0)[1])\n",
    "fp7 = np.array(fp7)"
   ]
  },
  {
   "cell_type": "code",
   "execution_count": 11,
   "metadata": {},
   "outputs": [
    {
     "name": "stdout",
     "output_type": "stream",
     "text": [
      "Calculating [ 2.5  0.   0. ] on 1/9 RE Square Dipole Grid\n"
     ]
    },
    {
     "name": "stdout",
     "output_type": "stream",
     "text": [
      "Calculating [ 3.38888889  0.          0.        ] on 1/9 RE Square Dipole Grid\n"
     ]
    },
    {
     "name": "stdout",
     "output_type": "stream",
     "text": [
      "Calculating [ 4.27777778  0.          0.        ] on 1/9 RE Square Dipole Grid\n"
     ]
    },
    {
     "name": "stdout",
     "output_type": "stream",
     "text": [
      "Calculating [ 5.16666667  0.          0.        ] on 1/9 RE Square Dipole Grid\n"
     ]
    },
    {
     "name": "stdout",
     "output_type": "stream",
     "text": [
      "Calculating [ 6.05555556  0.          0.        ] on 1/9 RE Square Dipole Grid\n"
     ]
    },
    {
     "name": "stdout",
     "output_type": "stream",
     "text": [
      "Calculating [ 6.94444444  0.          0.        ] on 1/9 RE Square Dipole Grid\n"
     ]
    },
    {
     "name": "stdout",
     "output_type": "stream",
     "text": [
      "Calculating [ 7.83333333  0.          0.        ] on 1/9 RE Square Dipole Grid\n"
     ]
    },
    {
     "name": "stdout",
     "output_type": "stream",
     "text": [
      "Calculating [ 8.72222222  0.          0.        ] on 1/9 RE Square Dipole Grid\n"
     ]
    },
    {
     "name": "stdout",
     "output_type": "stream",
     "text": [
      "Calculating [ 9.61111111  0.          0.        ] on 1/9 RE Square Dipole Grid\n"
     ]
    },
    {
     "name": "stdout",
     "output_type": "stream",
     "text": [
      "Calculating [ 10.5   0.    0. ] on 1/9 RE Square Dipole Grid\n"
     ]
    }
   ],
   "source": [
    "fp9 = []\n",
    "for loc in loclist:\n",
    "    print (\"Calculating {} on 1/9 RE Square Dipole Grid\".format(loc))\n",
    "    fl9 = fl.FieldLine(data=data_dpg9, start=loc, error_tol=1e-6)\n",
    "    fp9.append(fl9.get_footprint_rlp(re=1.0)[1])\n",
    "fp9 = np.array(fp9)"
   ]
  },
  {
   "cell_type": "code",
   "execution_count": 12,
   "metadata": {},
   "outputs": [
    {
     "name": "stdout",
     "output_type": "stream",
     "text": [
      "Calculating [ 2.5  0.   0. ] on 1/13 RE Square Dipole Grid\n"
     ]
    },
    {
     "name": "stdout",
     "output_type": "stream",
     "text": [
      "Calculating [ 3.38888889  0.          0.        ] on 1/13 RE Square Dipole Grid\n"
     ]
    },
    {
     "name": "stdout",
     "output_type": "stream",
     "text": [
      "Calculating [ 4.27777778  0.          0.        ] on 1/13 RE Square Dipole Grid\n"
     ]
    },
    {
     "name": "stdout",
     "output_type": "stream",
     "text": [
      "Calculating [ 5.16666667  0.          0.        ] on 1/13 RE Square Dipole Grid\n"
     ]
    },
    {
     "name": "stdout",
     "output_type": "stream",
     "text": [
      "Calculating [ 6.05555556  0.          0.        ] on 1/13 RE Square Dipole Grid\n"
     ]
    },
    {
     "name": "stdout",
     "output_type": "stream",
     "text": [
      "Calculating [ 6.94444444  0.          0.        ] on 1/13 RE Square Dipole Grid\n"
     ]
    },
    {
     "name": "stdout",
     "output_type": "stream",
     "text": [
      "Calculating [ 7.83333333  0.          0.        ] on 1/13 RE Square Dipole Grid\n"
     ]
    },
    {
     "name": "stdout",
     "output_type": "stream",
     "text": [
      "Calculating [ 8.72222222  0.          0.        ] on 1/13 RE Square Dipole Grid\n"
     ]
    },
    {
     "name": "stdout",
     "output_type": "stream",
     "text": [
      "Calculating [ 9.61111111  0.          0.        ] on 1/13 RE Square Dipole Grid\n"
     ]
    },
    {
     "name": "stdout",
     "output_type": "stream",
     "text": [
      "Calculating [ 10.5   0.    0. ] on 1/13 RE Square Dipole Grid\n"
     ]
    }
   ],
   "source": [
    "fp13 = []\n",
    "for loc in loclist:\n",
    "    print (\"Calculating {} on 1/13 RE Square Dipole Grid\".format(loc))\n",
    "    fl13 = fl.FieldLine(data=data_dpg13, start=loc, error_tol=1e-6)\n",
    "    fp13.append(fl13.get_footprint_rlp(re=1.0)[1])\n",
    "fp13 = np.array(fp13)"
   ]
  },
  {
   "cell_type": "code",
   "execution_count": 25,
   "metadata": {},
   "outputs": [
    {
     "name": "stdout",
     "output_type": "stream",
     "text": [
      "Calculating [ 2.5  0.   0. ] on 1/17 RE Square Dipole Grid\n"
     ]
    },
    {
     "name": "stdout",
     "output_type": "stream",
     "text": [
      "Calculating [ 3.38888889  0.          0.        ] on 1/17 RE Square Dipole Grid\n"
     ]
    },
    {
     "name": "stdout",
     "output_type": "stream",
     "text": [
      "Calculating [ 4.27777778  0.          0.        ] on 1/17 RE Square Dipole Grid\n"
     ]
    },
    {
     "name": "stdout",
     "output_type": "stream",
     "text": [
      "Calculating [ 5.16666667  0.          0.        ] on 1/17 RE Square Dipole Grid\n"
     ]
    },
    {
     "name": "stdout",
     "output_type": "stream",
     "text": [
      "Calculating [ 6.05555556  0.          0.        ] on 1/17 RE Square Dipole Grid\n"
     ]
    },
    {
     "name": "stdout",
     "output_type": "stream",
     "text": [
      "Calculating [ 6.94444444  0.          0.        ] on 1/17 RE Square Dipole Grid\n"
     ]
    },
    {
     "name": "stdout",
     "output_type": "stream",
     "text": [
      "Calculating [ 7.83333333  0.          0.        ] on 1/17 RE Square Dipole Grid\n"
     ]
    },
    {
     "name": "stdout",
     "output_type": "stream",
     "text": [
      "Calculating [ 8.72222222  0.          0.        ] on 1/17 RE Square Dipole Grid\n"
     ]
    },
    {
     "name": "stdout",
     "output_type": "stream",
     "text": [
      "Calculating [ 9.61111111  0.          0.        ] on 1/17 RE Square Dipole Grid\n"
     ]
    },
    {
     "name": "stdout",
     "output_type": "stream",
     "text": [
      "Calculating [ 10.5   0.    0. ] on 1/17 RE Square Dipole Grid\n"
     ]
    }
   ],
   "source": [
    "fp17 = []\n",
    "for loc in loclist:\n",
    "    print (\"Calculating {} on 1/17 RE Square Dipole Grid\".format(loc))\n",
    "    fl17 = fl.FieldLine(data=data_dpg17, start=loc, error_tol=1e-6)\n",
    "    fp17.append(fl17.get_footprint_rlp(re=1.0)[1])\n",
    "fp17 = np.array(fp17)"
   ]
  },
  {
   "cell_type": "code",
   "execution_count": null,
   "metadata": {},
   "outputs": [],
   "source": [
    "# for loc in loclist:\n",
    "#     print (\"Calculating {} on 1/19 RE Square Dipole Grid\".format(loc))\n",
    "#     fl19 = fl.FieldLine(data=data_dpg19, start=loc, error_tol=1e-6)\n",
    "#     fp19.append(fl19.get_footprint_rlp(re=1.0)[1])\n",
    "# fp19 = np.array(fp19)"
   ]
  },
  {
   "cell_type": "code",
   "execution_count": 31,
   "metadata": {
    "collapsed": false
   },
   "outputs": [
    {
     "data": {
      "image/png": "[encoded data removed]",
      "text/plain": [
       "<matplotlib.figure.Figure at 0x6217c80d0>"
      ]
     },
     "metadata": {},
     "output_type": "display_data"
    }
   ],
   "source": [
    "x = Ls\n",
    "\n",
    "fig = plt.figure()\n",
    "ax = fig.add_subplot(111)\n",
    "\n",
    "# ax.plot(x, (algx.rad_to_deg(np.abs(fp3 - fp_ideal))), label=\"1/3 RE Grid\")\n",
    "ax.semilogy(x, (np.abs(fp7 - fp_ideal)), 'k', lw=1, label=\"1/7 RE Grid\")\n",
    "ax.semilogy(x, (np.abs(fp9 - fp_ideal)), 'b', lw=1,label=\"1/9 RE Grid\")\n",
    "ax.semilogy(x, (np.abs(fp13 - fp_ideal)), 'r', lw=1,label=\"1/13 RE Grid\")\n",
    "ax.semilogy(x, (np.abs(fp17 - fp_ideal)), 'y', lw=1,label=\"1/17 RE Grid\")\n",
    "# ax.plot(x, (algx.rad_to_deg(np.abs(fp19 - fp_ideal))), label=\"1/19 RE Rect. Grid\")\n",
    "\n",
    "ax.set_ylabel(\"Absolute $\\lambda$ intersection Error (deg)\")\n",
    "ax.set_xlabel(\"L\")\n",
    "ax.set_title(\"$\\lambda$ Error Comparisons - Rectangular Grids\")\n",
    "plt.legend(loc='best')\n",
    "plt.tight_layout()\n",
    "plt.grid(b=True, which='major', color='grey', linewidth=0.25, linestyle=':')\n",
    "plt.show()\n",
    "fig.savefig(\"/Volumes/8TB Seagate/PhD Data/profiles/rectangular_grid_fp_error.pdf\")"
   ]
  },
  {
   "cell_type": "code",
   "execution_count": null,
   "metadata": {},
   "outputs": [],
   "source": [
    ""
   ]
  }
 ],
 "metadata": {
  "kernelspec": {
   "display_name": "Python 2",
   "language": "python",
   "name": "python2"
  },
  "language_info": {
   "codemirror_mode": {
    "name": "ipython",
    "version": 2.0
   },
   "file_extension": ".py",
   "mimetype": "text/x-python",
   "name": "python",
   "nbconvert_exporter": "python",
   "pygments_lexer": "ipython2",
   "version": "2.7.6"
  }
 },
 "nbformat": 4,
 "nbformat_minor": 0
}
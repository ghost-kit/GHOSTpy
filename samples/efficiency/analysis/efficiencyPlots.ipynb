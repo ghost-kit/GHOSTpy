{
 "cells": [
  {
   "cell_type": "code",
   "execution_count": 20,
   "metadata": {
    "collapsed": true
   },
   "outputs": [],
   "source": [
    "%matplotlib inline\n",
    "\n",
    "import pickle\n",
    "import numpy as np\n",
    "import matplotlib.pyplot as plt"
   ]
  },
  {
   "cell_type": "code",
   "execution_count": 21,
   "metadata": {
    "collapsed": true
   },
   "outputs": [],
   "source": [
    "dat = pickle.load(open(\"./timings.pickle\", \"rb\"))"
   ]
  },
  {
   "cell_type": "code",
   "execution_count": 22,
   "metadata": {},
   "outputs": [
    {
     "name": "stdout",
     "output_type": "stream",
     "text": [
      "['comms', 'binning', 'dataCalc', 'io', 'workDivs', 'data']\n"
     ]
    }
   ],
   "source": [
    "print (dat[0].keys())"
   ]
  },
  {
   "cell_type": "code",
   "execution_count": 23,
   "metadata": {
    "collapsed": true
   },
   "outputs": [],
   "source": [
    "comms = []\n",
    "binning = []\n",
    "dataCalc = []\n",
    "io = []\n",
    "workDivs = []\n",
    "data = []\n",
    "for rank in dat:\n",
    "    comms.append(rank['comms'])\n",
    "    binning.append(rank['binning'])\n",
    "    dataCalc.append(rank['dataCalc'])\n",
    "    io.append(rank['io'])\n",
    "    workDivs.append(rank['workDivs'])\n",
    "    data.append(rank['data'])\n"
   ]
  },
  {
   "cell_type": "code",
   "execution_count": 24,
   "metadata": {},
   "outputs": [
    {
     "name": "stdout",
     "output_type": "stream",
     "text": [
      "[95.38660907745361, 0.00026416778564453125, 0.0002770423889160156, 0.0002551078796386719, 0.0002911090850830078, 0.008736133575439453, 0.00033593177795410156, 0.00026106834411621094, 14.630488872528076, 0.0002548694610595703]\n"
     ]
    }
   ],
   "source": [
    "print (comms)"
   ]
  },
  {
   "cell_type": "code",
   "execution_count": 25,
   "metadata": {},
   "outputs": [
    {
     "name": "stdout",
     "output_type": "stream",
     "text": [
      "[100.28630805015564, 0.0, 0.0, 9.5367431640625e-07, 0.0, 9.5367431640625e-07, 9.5367431640625e-07, 9.5367431640625e-07, 9.5367431640625e-07, 1.1920928955078125e-06]\n"
     ]
    }
   ],
   "source": [
    "print (io)"
   ]
  },
  {
   "cell_type": "code",
   "execution_count": 26,
   "metadata": {},
   "outputs": [
    {
     "name": "stdout",
     "output_type": "stream",
     "text": [
      "[73.1472430229187, 72.10289311408997, 72.5088119506836, 73.3624038696289, 74.13556504249573, 72.52279901504517, 72.51596283912659, 73.45736312866211, 72.39734292030334, 72.7372670173645]\n"
     ]
    }
   ],
   "source": [
    "print(binning)"
   ]
  },
  {
   "cell_type": "code",
   "execution_count": 27,
   "metadata": {},
   "outputs": [
    {
     "name": "stdout",
     "output_type": "stream",
     "text": [
      "[52.524917125701904, 51.889074087142944, 52.53969097137451, 53.435078859329224, 53.384957790374756, 52.69629192352295, 53.12563991546631, 52.01340293884277, 52.43395686149597, 52.64235019683838]\n"
     ]
    }
   ],
   "source": [
    "print(data)"
   ]
  },
  {
   "cell_type": "code",
   "execution_count": 28,
   "metadata": {},
   "outputs": [
    {
     "name": "stdout",
     "output_type": "stream",
     "text": [
      "[1685.6867401599884, 1709.1407389640808, 1697.726105928421, 1695.2254891395569, 1779.2234649658203, 1671.8283369541168, 1707.5424308776855, 1687.6416230201721, 1698.447837114334, 1712.5266602039337]\n"
     ]
    }
   ],
   "source": [
    "print(dataCalc)"
   ]
  },
  {
   "cell_type": "code",
   "execution_count": 36,
   "metadata": {},
   "outputs": [
    {
     "data": {
      "text/plain": [
       "<Container object of 10 artists>"
      ]
     },
     "execution_count": 36,
     "metadata": {},
     "output_type": "execute_result"
    },
    {
     "data": {
      "image/png": "[encoded data removed]",
      "text/plain": [
       "<matplotlib.figure.Figure at 0x10f9d04d0>"
      ]
     },
     "metadata": {},
     "output_type": "display_data"
    }
   ],
   "source": [
    "fig1 = plt.figure(figsize=[10,5])\n",
    "ax1 = fig1.add_subplot(111)\n",
    "daty = dataCalc\n",
    "ax1.bar(np.arange(len(daty)), daty)"
   ]
  },
  {
   "cell_type": "code",
   "execution_count": 32,
   "metadata": {},
   "outputs": [
    {
     "data": {
      "text/plain": [
       "(array([ 2.,  1.,  4.,  1.,  2.]),\n",
       " array([ 51.88907409,  52.19827504,  52.507476  ,  52.81667695,\n",
       "         53.1258779 ,  53.43507886]),\n",
       " <a list of 5 Patch objects>)"
      ]
     },
     "execution_count": 32,
     "metadata": {},
     "output_type": "execute_result"
    },
    {
     "data": {
      "image/png": "[encoded data removed]",
      "text/plain": [
       "<matplotlib.figure.Figure at 0x10f59b090>"
      ]
     },
     "metadata": {},
     "output_type": "display_data"
    }
   ],
   "source": [
    "fig2 = plt.figure(figsize=[10,5])\n",
    "ax2 = fig2.add_subplot(111)\n",
    "ax2.hist(data, bins='auto')"
   ]
  },
  {
   "cell_type": "code",
   "execution_count": null,
   "metadata": {
    "collapsed": true
   },
   "outputs": [],
   "source": []
  }
 ],
 "metadata": {
  "kernelspec": {
   "display_name": "Python 2",
   "language": "python",
   "name": "python2"
  },
  "language_info": {
   "codemirror_mode": {
    "name": "ipython",
    "version": 2
   },
   "file_extension": ".py",
   "mimetype": "text/x-python",
   "name": "python",
   "nbconvert_exporter": "python",
   "pygments_lexer": "ipython2",
   "version": "2.7.13"
  }
 },
 "nbformat": 4,
 "nbformat_minor": 2
}

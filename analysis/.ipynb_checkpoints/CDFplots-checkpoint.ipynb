{
 "cells": [
  {
   "cell_type": "code",
   "execution_count": 1,
   "metadata": {
    "collapsed": true
   },
   "outputs": [],
   "source": [
    "%matplotlib inline\n",
    "\n",
    "from spacepy import pycdf\n",
    "import numpy as np\n",
    "import datetime\n",
    "import numpy as np\n",
    "import matplotlib.pyplot as plt\n",
    "from matplotlib.collections import LineCollection \n",
    "from matplotlib.colors import ListedColormap, BoundaryNorm\n",
    "import matplotlib.cm as cm\n",
    "import matplotlib.pyplot as plt\n",
    "import pickle\n",
    "from ghostpy.algorithms import convert as algx\n"
   ]
  },
  {
   "cell_type": "code",
   "execution_count": 2,
   "metadata": {
    "collapsed": true
   },
   "outputs": [],
   "source": [
    "# Topics: line, color, LineCollection, cmap, colorline, codex\n",
    "'''\n",
    "Defines a function colorline that draws a (multi-)colored 2D line with coordinates x and y.\n",
    "The color is taken from optional data in z, and creates a LineCollection.\n",
    "\n",
    "z can be:\n",
    "- empty, in which case a default coloring will be used based on the position along the input arrays\n",
    "- a single number, for a uniform color [this can also be accomplished with the usual plt.plot]\n",
    "- an array of the length of at least the same length as x, to color according to this data\n",
    "- an array of a smaller length, in which case the colors are repeated along the curve\n",
    "\n",
    "The function colorline returns the LineCollection created, which can be modified afterwards.\n",
    "\n",
    "See also: plt.streamplot\n",
    "'''\n",
    "\n",
    "# Data manipulation:\n",
    "\n",
    "def make_segments(x, y):\n",
    "    '''\n",
    "    Create list of line segments from x and y coordinates, in the correct format for LineCollection:\n",
    "    an array of the form   numlines x (points per line) x 2 (x and y) array\n",
    "    '''\n",
    "\n",
    "    points = np.array([x, y]).T.reshape(-1, 1, 2)\n",
    "    segments = np.concatenate([points[:-1], points[1:]], axis=1)\n",
    "    \n",
    "    return segments\n",
    "\n",
    "\n",
    "# Interface to LineCollection:\n",
    "\n",
    "def colorline(x, y, z=None, cmap=plt.get_cmap('copper'), norm=plt.Normalize(0.0, 1.0), linewidth=3, alpha=1.0):\n",
    "    '''\n",
    "    Plot a colored line with coordinates x and y\n",
    "    Optionally specify colors in the array z\n",
    "    Optionally specify a colormap, a norm function and a line width\n",
    "    '''\n",
    "    \n",
    "    # Default colors equally spaced on [0,1]:\n",
    "    if z is None:\n",
    "        z = np.logspace(1, 5, len(x))\n",
    "           \n",
    "    # Special case if a single number:\n",
    "    if not hasattr(z, \"__iter__\"):  # to check for numerical input -- this is a hack\n",
    "        z = np.array([z])\n",
    "        \n",
    "    z = np.asarray(z)\n",
    "    \n",
    "    segments = make_segments(x, y)\n",
    "    lc = LineCollection(segments, array=z, cmap=cmap, norm=norm, linewidth=linewidth, alpha=alpha)\n",
    "    \n",
    "    ax = plt.gca()\n",
    "    ax.add_collection(lc)\n",
    "    \n",
    "    return lc\n",
    "        \n",
    "    \n",
    "def clear_frame(ax=None): \n",
    "    # Taken from a post by Tony S Yu\n",
    "    if ax is None: \n",
    "        ax = plt.gca() \n",
    "    ax.xaxis.set_visible(False) \n",
    "    ax.yaxis.set_visible(False) \n",
    "    for spine in ax.spines.itervalues(): \n",
    "        spine.set_visible(False) "
   ]
  },
  {
   "cell_type": "code",
   "execution_count": 3,
   "metadata": {
    "collapsed": true
   },
   "outputs": [],
   "source": [
    "\n",
    "\n",
    "def plot_colorline(x,y,c):\n",
    "    c = cm.plasma((c-np.min(c))/(np.max(c)-np.min(c)))\n",
    "    ax = plt.gca()\n",
    "    for i in np.arange(len(x)-1):\n",
    "        ax.plot([x[i],x[i+1]], [y[i],y[i+1]], c=c[i], lw=5)\n",
    "        print (\"IDX: {}\".format(i))\n",
    "    return"
   ]
  },
  {
   "cell_type": "code",
   "execution_count": 4,
   "metadata": {
    "collapsed": true
   },
   "outputs": [],
   "source": [
    "path=\"/Volumes/8TB Seagate/PhD Data/RBSPcdf/\"\n",
    "pathout=\"/Volumes/8TB Seagate/PhD Data/profiles/\""
   ]
  },
  {
   "cell_type": "code",
   "execution_count": 5,
   "metadata": {
    "collapsed": true
   },
   "outputs": [],
   "source": [
    "rbspb = pycdf.CDF(path+\"rbspb_l2_psbr-rps_20131002_v1.0.0.cdf\")"
   ]
  },
  {
   "cell_type": "code",
   "execution_count": 6,
   "metadata": {
    "collapsed": true
   },
   "outputs": [],
   "source": [
    "rbspa = pycdf.CDF(path+\"rbspa_l2_psbr-rps_20131002_v1.0.1.cdf\")"
   ]
  },
  {
   "cell_type": "code",
   "execution_count": 7,
   "metadata": {},
   "outputs": [
    {
     "data": {
      "text/plain": [
       "<CDF:\n",
       "Alpha: CDF_REAL4 [574220]\n",
       "Alpha_Eq: CDF_REAL4 [574220]\n",
       "Alpha_Eq_T89D: CDF_REAL4 [574220]\n",
       "Alpha_Eq_T89Q: CDF_REAL4 [574220]\n",
       "Alpha_Eq_TS04D: CDF_REAL4 [574220]\n",
       "Attitude_Quality: CDF_UINT2 [574220]\n",
       "BORESIGHT_XYZ_LABL: CDF_CHAR*14 [3] NRV\n",
       "BORE_SIGHT: CDF_REAL4 [574220, 3]\n",
       "B_Calc: CDF_REAL4 [574220, 3]\n",
       "B_Calc_T89D: CDF_REAL4 [574220, 3]\n",
       "B_Calc_T89Q: CDF_REAL4 [574220, 3]\n",
       "B_Calc_TS04D: CDF_REAL4 [574220, 3]\n",
       "B_Eq: CDF_REAL4 [574220]\n",
       "B_Eq_T89D: CDF_REAL4 [574220]\n",
       "B_Eq_T89Q: CDF_REAL4 [574220]\n",
       "B_Eq_TS04D: CDF_REAL4 [574220]\n",
       "B_MEAS_XYZ_LABL: CDF_CHAR*11 [3] NRV\n",
       "B_Meas: CDF_REAL4 [574220, 3]\n",
       "B_Meas_Flag: CDF_UINT1 [574220]\n",
       "B_Mirror: CDF_REAL4 [574220]\n",
       "B_OPQ_XYZ_LABL: CDF_CHAR*9 [3] NRV\n",
       "B_T89D_XYZ_LABL: CDF_CHAR*10 [3] NRV\n",
       "B_T89Q_XYZ_LABL: CDF_CHAR*10 [3] NRV\n",
       "B_TS04D_XYZ_LABL: CDF_CHAR*11 [3] NRV\n",
       "Beta: CDF_REAL4 [574220]\n",
       "CARTESIAN_GEO_LABL: CDF_CHAR*4 [3] NRV\n",
       "DATA_CHANNEL_COUNTS: CDF_REAL4 [574220, 20]\n",
       "DATA_CHANNEL_ID: CDF_UINT1 [20] NRV\n",
       "DETECTOR_ID: CDF_CHAR*2 [9] NRV\n",
       "DOSE1: CDF_REAL4 [574220]\n",
       "DOSE1_RATE: CDF_REAL4 [574220]\n",
       "DOSE2: CDF_REAL4 [574220]\n",
       "DOSE2_RATE: CDF_REAL4 [574220]\n",
       "ENERGY_CHANNEL_LABL: CDF_CHAR*8 [20] NRV\n",
       "EVENT_Alpha: CDF_REAL4 [538436]\n",
       "EVENT_Alpha_Eq: CDF_REAL4 [538436]\n",
       "EVENT_B_Mirror: CDF_REAL4 [538436]\n",
       "EVENT_Beta: CDF_REAL4 [538436]\n",
       "EVENT_CHANNEL_ID: CDF_UINT1 [538436]\n",
       "EVENT_CHE_PHOTONS: CDF_REAL4 [538436]\n",
       "EVENT_D9_COULOMBS: CDF_REAL4 [538436]\n",
       "EVENT_DIRECTION: CDF_UINT1 [538436]\n",
       "EVENT_ENERGY: CDF_REAL4 [538436]\n",
       "EVENT_ENERGY_CHE: CDF_REAL4 [538436]\n",
       "EVENT_ENERGY_DEPOSIT: CDF_REAL4 [538436, 8]\n",
       "EVENT_ENERGY_MIN2SSD: CDF_REAL4 [538436]\n",
       "EVENT_ENERGY_SSDA: CDF_REAL4 [538436]\n",
       "EVENT_Epoch: CDF_EPOCH [538436]\n",
       "EVENT_L: CDF_REAL4 [538436]\n",
       "EVENT_L0_SERIAL: CDF_UINT4 [538436]\n",
       "EVENT_L1_SERIAL: CDF_UINT4 [538436]\n",
       "EVENT_L90: CDF_REAL4 [538436]\n",
       "EVENT_MET: CDF_REAL8 [538436]\n",
       "EVENT_MLT: CDF_REAL4 [538436]\n",
       "EVENT_Mission_Day: CDF_UINT4 [538436]\n",
       "EVENT_Orbit_Epoch: CDF_REAL4 [538436]\n",
       "EVENT_Orbit_Number: CDF_UINT2 [538436]\n",
       "EVENT_Orbit_Status: CDF_UINT1 [538436]\n",
       "EVENT_PACKET_SERIAL: CDF_UINT4 [538436]\n",
       "EVENT_PULSEHEIGHTS: CDF_UINT2 [538436, 9]\n",
       "EVENT_Position: CDF_REAL4 [538436, 3]\n",
       "EVENT_SIGMA_E: CDF_REAL4 [538436]\n",
       "EVENT_SLOT_SERIAL: CDF_UINT2 [538436]\n",
       "EVENT_TYPE: CDF_INT1 [538436]\n",
       "EarthConeAngle: CDF_REAL4 [574220]\n",
       "EarthRadialAngle: CDF_REAL4 [574220]\n",
       "Epoch: CDF_EPOCH [574220]\n",
       "FPDU: CDF_REAL4 [574220, 20]\n",
       "FPDU_Crosscalib: CDF_REAL4 [20] NRV\n",
       "FPDU_Crosscalib_RMSE: CDF_REAL4 [20] NRV\n",
       "FPDU_Energy: CDF_REAL4 [20] NRV\n",
       "FPDU_EnergyRange: CDF_REAL4 [20, 2] NRV\n",
       "FPDU_GdE: CDF_REAL4 [20] NRV\n",
       "FPDU_Quality: CDF_UINT2 [574220, 20]\n",
       "FPDU_RMSE: CDF_REAL4 [574220, 20]\n",
       "I: CDF_REAL4 [574220]\n",
       "I_T89D: CDF_REAL4 [574220]\n",
       "I_T89Q: CDF_REAL4 [574220]\n",
       "I_TS04D: CDF_REAL4 [574220]\n",
       "K: CDF_REAL4 [574220]\n",
       "K_T89D: CDF_REAL4 [574220]\n",
       "K_T89Q: CDF_REAL4 [574220]\n",
       "K_TS04D: CDF_REAL4 [574220]\n",
       "L: CDF_REAL4 [574220]\n",
       "L90: CDF_REAL4 [574220]\n",
       "L_T89D: CDF_REAL4 [574220]\n",
       "L_T89Q: CDF_REAL4 [574220]\n",
       "L_TS04D: CDF_REAL4 [574220]\n",
       "L_star: CDF_REAL4 [574220]\n",
       "L_star_T89D: CDF_REAL4 [574220]\n",
       "L_star_T89Q: CDF_REAL4 [574220]\n",
       "L_star_TS04D: CDF_REAL4 [574220]\n",
       "MET_SEC: CDF_REAL4 [574220]\n",
       "MLT: CDF_REAL4 [574220]\n",
       "MLT_T89D: CDF_REAL4 [574220]\n",
       "MLT_T89Q: CDF_REAL4 [574220]\n",
       "MLT_TS04D: CDF_REAL4 [574220]\n",
       "Mission_Day: CDF_UINT2 [574220]\n",
       "Orbit_Epoch: CDF_REAL4 [574220]\n",
       "Orbit_Number: CDF_UINT2 [574220]\n",
       "Orbit_Status: CDF_UINT1 [574220]\n",
       "Phi: CDF_REAL4 [574220]\n",
       "Phi_T89D: CDF_REAL4 [574220]\n",
       "Phi_T89Q: CDF_REAL4 [574220]\n",
       "Phi_TS04D: CDF_REAL4 [574220]\n",
       "Position: CDF_REAL4 [574220, 3]\n",
       "Position_Quality: CDF_UINT2 [574220]\n",
       "SPIN_OMEGA: CDF_REAL4 [574220, 3]\n",
       "SPIN_XYZ_LABL: CDF_CHAR*9 [3] NRV\n",
       "SSD_ID: CDF_CHAR*2 [8] NRV\n",
       "Sector_End: CDF_EPOCH [574220]\n",
       "Sector_Seconds: CDF_REAL4 [574220]\n",
       "Sector_Start: CDF_EPOCH [574220]\n",
       "h_min: CDF_REAL4 [574220]\n",
       "h_min_T89D: CDF_REAL4 [574220]\n",
       "h_min_T89Q: CDF_REAL4 [574220]\n",
       "h_min_TS04D: CDF_REAL4 [574220]\n",
       ">"
      ]
     },
     "execution_count": 7,
     "metadata": {},
     "output_type": "execute_result"
    }
   ],
   "source": [
    "rbspa"
   ]
  },
  {
   "cell_type": "code",
   "execution_count": 8,
   "metadata": {},
   "outputs": [
    {
     "name": "stdout",
     "output_type": "stream",
     "text": [
      "1596\n",
      "1596\n"
     ]
    }
   ],
   "source": [
    "PositionA = rbspa['Position'][...][0::(360)].copy()\n",
    "PositionB = rbspb['Position'][...][0::(360)].copy()\n",
    "EpochA = rbspa['Epoch'][...][0::(360)].copy()\n",
    "EpochB = rbspb['Epoch'][...][0::(360)].copy()\n",
    "\n",
    "\n",
    "print (len(PositionA))\n",
    "print (len(EpochA))\n"
   ]
  },
  {
   "cell_type": "code",
   "execution_count": 9,
   "metadata": {},
   "outputs": [],
   "source": [
    "import ghostpy.transform as gtx\n",
    "pt = PositionA[0]\n",
    "dt = EpochA[0]"
   ]
  },
  {
   "cell_type": "code",
   "execution_count": 10,
   "metadata": {},
   "outputs": [
    {
     "name": "stdout",
     "output_type": "stream",
     "text": [
      "(-13691.861299496699, 22446.612442592254, 1894.7871551824728)\n",
      "[ 12974.20703125 -22796.04882812  -2630.171875  ]\n"
     ]
    }
   ],
   "source": [
    "sm = gtx.cxform.transform('GEO', 'SM', pt[0], pt[1], pt[2], dt.year, dt.month, dt.day, dt.hour, dt.minute, dt.second)\n",
    "geo = pt\n",
    "print (sm)\n",
    "print (geo)"
   ]
  },
  {
   "cell_type": "markdown",
   "metadata": {},
   "source": [
    "# Get SM Coordinates for RBSP-A positions"
   ]
  },
  {
   "cell_type": "code",
   "execution_count": 11,
   "metadata": {},
   "outputs": [],
   "source": [
    "smPositionA = []\n",
    "for idx in range(len(PositionA)):\n",
    "    pt = PositionA[idx]\n",
    "    dt = EpochA[idx]\n",
    "    sm = gtx.cxform.transform('GEO', 'SM', pt[0], pt[1], pt[2], dt.year, dt.month, dt.day, dt.hour, dt.minute, dt.second)\n",
    "    sm = np.asarray(sm)/6371.0\n",
    "    smPositionA.append(sm)\n",
    "\n",
    "smPositionA = np.array(smPositionA)\n",
    "pickle.dump(smPositionA, open(\"smPositionsRBSP_A.pickle\", \"wb\"))\n",
    "pickle.dump(EpochA, open(\"smEpochA\", \"wb\"))\n",
    "pickle.dump(EpochB, open(\"smEpochB\", \"wb\"))"
   ]
  },
  {
   "cell_type": "markdown",
   "metadata": {},
   "source": [
    "# Get SM Coordinates for RBSP-B positions"
   ]
  },
  {
   "cell_type": "code",
   "execution_count": 12,
   "metadata": {
    "collapsed": true
   },
   "outputs": [],
   "source": [
    "smPositionB = []\n",
    "for idx in range(len(PositionB)):\n",
    "    pt = PositionB[idx]\n",
    "    dt = EpochB[idx]\n",
    "    sm = gtx.cxform.transform('GEO', 'SM', pt[0], pt[1], pt[2], dt.year, dt.month, dt.day, dt.hour, dt.minute, dt.second)\n",
    "    sm = np.asarray(sm)/6371.0\n",
    "    smPositionB.append(sm)\n",
    "\n",
    "smPositionB = np.array(smPositionB)\n",
    "pickle.dump(smPositionB, open(\"smPositionsRBSP_B.pickle\", \"wb\"))\n"
   ]
  },
  {
   "cell_type": "markdown",
   "metadata": {},
   "source": [
    "# Retrieve Pitch angles"
   ]
  },
  {
   "cell_type": "code",
   "execution_count": 13,
   "metadata": {},
   "outputs": [],
   "source": [
    "PitchAngleA = rbspa['Alpha_Eq_T89D'][...]\n",
    "PitchAngleB = rbspb['Alpha_Eq_T89D'][...]\n",
    "\n",
    "PitchAngleA = algx.deg_to_rad(PitchAngleA)\n",
    "PitchAngleB = algx.deg_to_rad(PitchAngleB)\n",
    "\n",
    "pickle.dump(PitchAngleA, open(\"PitchAngleRBSP_A.pickle\", \"wb\"))\n",
    "pickle.dump(PitchAngleB, open(\"PitchAngleRBSP_B.pickle\", \"wb\"))\n"
   ]
  },
  {
   "cell_type": "code",
   "execution_count": 14,
   "metadata": {
    "collapsed": true
   },
   "outputs": [],
   "source": [
    "L89QA = rbspa['L_star_T89D'][...]\n",
    "L89QB = rbspb['L_star_T89D'][...]"
   ]
  },
  {
   "cell_type": "code",
   "execution_count": 15,
   "metadata": {
    "collapsed": true
   },
   "outputs": [],
   "source": [
    "K89QA = rbspa['K_T89D'][...]\n",
    "K89QB = rbspb['K_T89D'][...]"
   ]
  },
  {
   "cell_type": "code",
   "execution_count": 16,
   "metadata": {},
   "outputs": [
    {
     "name": "stdout",
     "output_type": "stream",
     "text": [
      "1596\n"
     ]
    }
   ],
   "source": [
    "print(len(EpochA))"
   ]
  },
  {
   "cell_type": "code",
   "execution_count": 17,
   "metadata": {},
   "outputs": [
    {
     "ename": "ValueError",
     "evalue": "x and y must have same first dimension, but have shapes (2,) and (575,)",
     "output_type": "error",
     "traceback": [
      "\u001b[0;31m---------------------------------------------------------------------------\u001b[0m",
      "\u001b[0;31mValueError\u001b[0m                                Traceback (most recent call last)",
      "\u001b[0;32m<ipython-input-17-476765ba7172>\u001b[0m in \u001b[0;36m<module>\u001b[0;34m()\u001b[0m\n\u001b[1;32m     17\u001b[0m \u001b[0my2\u001b[0m \u001b[0;34m=\u001b[0m \u001b[0mL89QB\u001b[0m\u001b[0;34m[\u001b[0m\u001b[0;36m0\u001b[0m\u001b[0;34m:\u001b[0m\u001b[0;34m:\u001b[0m\u001b[0;34m(\u001b[0m\u001b[0;36m1000\u001b[0m\u001b[0;34m)\u001b[0m\u001b[0;34m]\u001b[0m\u001b[0;34m.\u001b[0m\u001b[0mcopy\u001b[0m\u001b[0;34m(\u001b[0m\u001b[0;34m)\u001b[0m\u001b[0;34m\u001b[0m\u001b[0m\n\u001b[1;32m     18\u001b[0m \u001b[0;34m\u001b[0m\u001b[0m\n\u001b[0;32m---> 19\u001b[0;31m \u001b[0max\u001b[0m\u001b[0;34m.\u001b[0m\u001b[0mplot\u001b[0m\u001b[0;34m(\u001b[0m\u001b[0mx1\u001b[0m\u001b[0;34m,\u001b[0m \u001b[0my1\u001b[0m\u001b[0;34m,\u001b[0m \u001b[0mlabel\u001b[0m\u001b[0;34m=\u001b[0m\u001b[0;34m\"RBSP A\"\u001b[0m\u001b[0;34m,\u001b[0m \u001b[0mlw\u001b[0m\u001b[0;34m=\u001b[0m\u001b[0;36m1.5\u001b[0m\u001b[0;34m)\u001b[0m\u001b[0;34m\u001b[0m\u001b[0m\n\u001b[0m\u001b[1;32m     20\u001b[0m \u001b[0max\u001b[0m\u001b[0;34m.\u001b[0m\u001b[0mplot\u001b[0m\u001b[0;34m(\u001b[0m\u001b[0mx2\u001b[0m\u001b[0;34m,\u001b[0m \u001b[0my2\u001b[0m\u001b[0;34m,\u001b[0m \u001b[0mlabel\u001b[0m\u001b[0;34m=\u001b[0m\u001b[0;34m\"RBSP B\"\u001b[0m\u001b[0;34m,\u001b[0m \u001b[0mlw\u001b[0m\u001b[0;34m=\u001b[0m\u001b[0;36m1.5\u001b[0m\u001b[0;34m)\u001b[0m\u001b[0;34m\u001b[0m\u001b[0m\n\u001b[1;32m     21\u001b[0m \u001b[0;31m# plot_colorline(EpochA, L89QA, K89QA)\u001b[0m\u001b[0;34m\u001b[0m\u001b[0;34m\u001b[0m\u001b[0m\n",
      "\u001b[0;32m/usr/local/lib/python2.7/site-packages/matplotlib/__init__.pyc\u001b[0m in \u001b[0;36minner\u001b[0;34m(ax, *args, **kwargs)\u001b[0m\n\u001b[1;32m   1890\u001b[0m                     warnings.warn(msg % (label_namer, func.__name__),\n\u001b[1;32m   1891\u001b[0m                                   RuntimeWarning, stacklevel=2)\n\u001b[0;32m-> 1892\u001b[0;31m             \u001b[0;32mreturn\u001b[0m \u001b[0mfunc\u001b[0m\u001b[0;34m(\u001b[0m\u001b[0max\u001b[0m\u001b[0;34m,\u001b[0m \u001b[0;34m*\u001b[0m\u001b[0margs\u001b[0m\u001b[0;34m,\u001b[0m \u001b[0;34m**\u001b[0m\u001b[0mkwargs\u001b[0m\u001b[0;34m)\u001b[0m\u001b[0;34m\u001b[0m\u001b[0m\n\u001b[0m\u001b[1;32m   1893\u001b[0m         \u001b[0mpre_doc\u001b[0m \u001b[0;34m=\u001b[0m \u001b[0minner\u001b[0m\u001b[0;34m.\u001b[0m\u001b[0m__doc__\u001b[0m\u001b[0;34m\u001b[0m\u001b[0m\n\u001b[1;32m   1894\u001b[0m         \u001b[0;32mif\u001b[0m \u001b[0mpre_doc\u001b[0m \u001b[0;32mis\u001b[0m \u001b[0mNone\u001b[0m\u001b[0;34m:\u001b[0m\u001b[0;34m\u001b[0m\u001b[0m\n",
      "\u001b[0;32m/usr/local/lib/python2.7/site-packages/matplotlib/axes/_axes.pyc\u001b[0m in \u001b[0;36mplot\u001b[0;34m(self, *args, **kwargs)\u001b[0m\n\u001b[1;32m   1404\u001b[0m         \u001b[0mkwargs\u001b[0m \u001b[0;34m=\u001b[0m \u001b[0mcbook\u001b[0m\u001b[0;34m.\u001b[0m\u001b[0mnormalize_kwargs\u001b[0m\u001b[0;34m(\u001b[0m\u001b[0mkwargs\u001b[0m\u001b[0;34m,\u001b[0m \u001b[0m_alias_map\u001b[0m\u001b[0;34m)\u001b[0m\u001b[0;34m\u001b[0m\u001b[0m\n\u001b[1;32m   1405\u001b[0m \u001b[0;34m\u001b[0m\u001b[0m\n\u001b[0;32m-> 1406\u001b[0;31m         \u001b[0;32mfor\u001b[0m \u001b[0mline\u001b[0m \u001b[0;32min\u001b[0m \u001b[0mself\u001b[0m\u001b[0;34m.\u001b[0m\u001b[0m_get_lines\u001b[0m\u001b[0;34m(\u001b[0m\u001b[0;34m*\u001b[0m\u001b[0margs\u001b[0m\u001b[0;34m,\u001b[0m \u001b[0;34m**\u001b[0m\u001b[0mkwargs\u001b[0m\u001b[0;34m)\u001b[0m\u001b[0;34m:\u001b[0m\u001b[0;34m\u001b[0m\u001b[0m\n\u001b[0m\u001b[1;32m   1407\u001b[0m             \u001b[0mself\u001b[0m\u001b[0;34m.\u001b[0m\u001b[0madd_line\u001b[0m\u001b[0;34m(\u001b[0m\u001b[0mline\u001b[0m\u001b[0;34m)\u001b[0m\u001b[0;34m\u001b[0m\u001b[0m\n\u001b[1;32m   1408\u001b[0m             \u001b[0mlines\u001b[0m\u001b[0;34m.\u001b[0m\u001b[0mappend\u001b[0m\u001b[0;34m(\u001b[0m\u001b[0mline\u001b[0m\u001b[0;34m)\u001b[0m\u001b[0;34m\u001b[0m\u001b[0m\n",
      "\u001b[0;32m/usr/local/lib/python2.7/site-packages/matplotlib/axes/_base.pyc\u001b[0m in \u001b[0;36m_grab_next_args\u001b[0;34m(self, *args, **kwargs)\u001b[0m\n\u001b[1;32m    405\u001b[0m                 \u001b[0;32mreturn\u001b[0m\u001b[0;34m\u001b[0m\u001b[0m\n\u001b[1;32m    406\u001b[0m             \u001b[0;32mif\u001b[0m \u001b[0mlen\u001b[0m\u001b[0;34m(\u001b[0m\u001b[0mremaining\u001b[0m\u001b[0;34m)\u001b[0m \u001b[0;34m<=\u001b[0m \u001b[0;36m3\u001b[0m\u001b[0;34m:\u001b[0m\u001b[0;34m\u001b[0m\u001b[0m\n\u001b[0;32m--> 407\u001b[0;31m                 \u001b[0;32mfor\u001b[0m \u001b[0mseg\u001b[0m \u001b[0;32min\u001b[0m \u001b[0mself\u001b[0m\u001b[0;34m.\u001b[0m\u001b[0m_plot_args\u001b[0m\u001b[0;34m(\u001b[0m\u001b[0mremaining\u001b[0m\u001b[0;34m,\u001b[0m \u001b[0mkwargs\u001b[0m\u001b[0;34m)\u001b[0m\u001b[0;34m:\u001b[0m\u001b[0;34m\u001b[0m\u001b[0m\n\u001b[0m\u001b[1;32m    408\u001b[0m                     \u001b[0;32myield\u001b[0m \u001b[0mseg\u001b[0m\u001b[0;34m\u001b[0m\u001b[0m\n\u001b[1;32m    409\u001b[0m                 \u001b[0;32mreturn\u001b[0m\u001b[0;34m\u001b[0m\u001b[0m\n",
      "\u001b[0;32m/usr/local/lib/python2.7/site-packages/matplotlib/axes/_base.pyc\u001b[0m in \u001b[0;36m_plot_args\u001b[0;34m(self, tup, kwargs)\u001b[0m\n\u001b[1;32m    383\u001b[0m             \u001b[0mx\u001b[0m\u001b[0;34m,\u001b[0m \u001b[0my\u001b[0m \u001b[0;34m=\u001b[0m \u001b[0mindex_of\u001b[0m\u001b[0;34m(\u001b[0m\u001b[0mtup\u001b[0m\u001b[0;34m[\u001b[0m\u001b[0;34m-\u001b[0m\u001b[0;36m1\u001b[0m\u001b[0;34m]\u001b[0m\u001b[0;34m)\u001b[0m\u001b[0;34m\u001b[0m\u001b[0m\n\u001b[1;32m    384\u001b[0m \u001b[0;34m\u001b[0m\u001b[0m\n\u001b[0;32m--> 385\u001b[0;31m         \u001b[0mx\u001b[0m\u001b[0;34m,\u001b[0m \u001b[0my\u001b[0m \u001b[0;34m=\u001b[0m \u001b[0mself\u001b[0m\u001b[0;34m.\u001b[0m\u001b[0m_xy_from_xy\u001b[0m\u001b[0;34m(\u001b[0m\u001b[0mx\u001b[0m\u001b[0;34m,\u001b[0m \u001b[0my\u001b[0m\u001b[0;34m)\u001b[0m\u001b[0;34m\u001b[0m\u001b[0m\n\u001b[0m\u001b[1;32m    386\u001b[0m \u001b[0;34m\u001b[0m\u001b[0m\n\u001b[1;32m    387\u001b[0m         \u001b[0;32mif\u001b[0m \u001b[0mself\u001b[0m\u001b[0;34m.\u001b[0m\u001b[0mcommand\u001b[0m \u001b[0;34m==\u001b[0m \u001b[0;34m'plot'\u001b[0m\u001b[0;34m:\u001b[0m\u001b[0;34m\u001b[0m\u001b[0m\n",
      "\u001b[0;32m/usr/local/lib/python2.7/site-packages/matplotlib/axes/_base.pyc\u001b[0m in \u001b[0;36m_xy_from_xy\u001b[0;34m(self, x, y)\u001b[0m\n\u001b[1;32m    242\u001b[0m         \u001b[0;32mif\u001b[0m \u001b[0mx\u001b[0m\u001b[0;34m.\u001b[0m\u001b[0mshape\u001b[0m\u001b[0;34m[\u001b[0m\u001b[0;36m0\u001b[0m\u001b[0;34m]\u001b[0m \u001b[0;34m!=\u001b[0m \u001b[0my\u001b[0m\u001b[0;34m.\u001b[0m\u001b[0mshape\u001b[0m\u001b[0;34m[\u001b[0m\u001b[0;36m0\u001b[0m\u001b[0;34m]\u001b[0m\u001b[0;34m:\u001b[0m\u001b[0;34m\u001b[0m\u001b[0m\n\u001b[1;32m    243\u001b[0m             raise ValueError(\"x and y must have same first dimension, but \"\n\u001b[0;32m--> 244\u001b[0;31m                              \"have shapes {} and {}\".format(x.shape, y.shape))\n\u001b[0m\u001b[1;32m    245\u001b[0m         \u001b[0;32mif\u001b[0m \u001b[0mx\u001b[0m\u001b[0;34m.\u001b[0m\u001b[0mndim\u001b[0m \u001b[0;34m>\u001b[0m \u001b[0;36m2\u001b[0m \u001b[0;32mor\u001b[0m \u001b[0my\u001b[0m\u001b[0;34m.\u001b[0m\u001b[0mndim\u001b[0m \u001b[0;34m>\u001b[0m \u001b[0;36m2\u001b[0m\u001b[0;34m:\u001b[0m\u001b[0;34m\u001b[0m\u001b[0m\n\u001b[1;32m    246\u001b[0m             raise ValueError(\"x and y can be no greater than 2-D, but have \"\n",
      "\u001b[0;31mValueError\u001b[0m: x and y must have same first dimension, but have shapes (2,) and (575,)"
     ]
    },
    {
     "data": {
      "image/png": "[encoded data removed]",
      "text/plain": [
       "<matplotlib.figure.Figure at 0x10f9ddf50>"
      ]
     },
     "metadata": {},
     "output_type": "display_data"
    }
   ],
   "source": [
    "fig = plt.figure(figsize=(10,5))\n",
    "ax = fig.add_subplot(111)\n",
    "\n",
    "deltaD = EpochA - min(EpochA)\n",
    "jd = [d.total_seconds() for d in deltaD]\n",
    "x1 = np.asarray(jd)/60.0/60.0\n",
    "\n",
    "x1 = x1[0::(1000)].copy()\n",
    "\n",
    "deltaD = EpochB - min(EpochB)\n",
    "jd = [d.total_seconds() for d in deltaD]\n",
    "x2 = np.asarray(jd)/60.0/60.0\n",
    "\n",
    "x2 = x2[0::(1000)].copy()\n",
    "\n",
    "y1 = L89QA[0::(1000)].copy()\n",
    "y2 = L89QB[0::(1000)].copy()\n",
    "\n",
    "ax.plot(x1, y1, label=\"RBSP A\", lw=1.5)\n",
    "ax.plot(x2, y2, label=\"RBSP B\", lw=1.5)\n",
    "# plot_colorline(EpochA, L89QA, K89QA)\n",
    "ax.set_title(\"RBSP T89 L* Values (From CDAWEB RBSP Data)\")\n",
    "ax.set_ylabel(\"$L^*$\")\n",
    "ax.set_xlabel(\"Hour of Day (02 Oct 2013)\")\n",
    "plt.xlim(np.min(x1), np.max(x2))\n",
    "\n",
    "plt.grid(b=True, which='major', color='grey', linewidth=0.25, linestyle=':')\n",
    "plt.tight_layout()\n",
    "plt.legend()\n",
    "plt.show()\n",
    "fig.savefig(pathout+\"RBSP_T89_Lstar.pdf\")"
   ]
  },
  {
   "cell_type": "code",
   "execution_count": null,
   "metadata": {},
   "outputs": [],
   "source": [
    "k1 = K89QA[0::(1000)].copy()\n",
    "k2 = K89QB[0::(1000)].copy()\n",
    "\n",
    "fig = plt.figure(figsize=[10,5])\n",
    "ax = fig.add_subplot(111)\n",
    "\n",
    "yA = k1\n",
    "yB = k2\n",
    "\n",
    "xA = y1\n",
    "xB = y2\n",
    "\n",
    "ax.scatter(xA, yA, marker=\"+\", label=\"RBSP A\")\n",
    "ax.scatter(xB, yB, marker=\"*\", label=\"RBSP B\")\n",
    "plt.grid(b=True, which='major', color='grey', linewidth=0.25, linestyle=':')\n",
    "\n",
    "\n",
    "ax.set_title(\"RBSP T89 L* vs. K (CDAWEB RBSP Data)\")\n",
    "ax.set_xlabel(\"L* (T89)\")\n",
    "ax.set_ylabel(\"K\")\n",
    "fig.tight_layout()\n",
    "plt.legend()\n",
    "fig.savefig(pathout+\"RBSP_T89_LvK.pdf\")\n"
   ]
  },
  {
   "cell_type": "code",
   "execution_count": null,
   "metadata": {
    "collapsed": true
   },
   "outputs": [],
   "source": [
    "def get_col(x,y,t):\n",
    "    points = np.array([x, y]).T.reshape(-1, 1, 2)\n",
    "    segments = np.concatenate([points[:-1], points[1:]], axis=1)\n",
    "\n",
    "    lc = LineCollection(segments, cmap=plt.get_cmap('gist_stern'),\n",
    "                    norm=colors.LogNorm(1e-0, 1e3))\n",
    "    lc.set_array(t)\n",
    "    lc.set_linewidth(3)\n",
    "    return lc\n"
   ]
  },
  {
   "cell_type": "code",
   "execution_count": null,
   "metadata": {
    "collapsed": true
   },
   "outputs": [],
   "source": [
    "import numpy as np\n",
    "import matplotlib.pyplot as plt\n",
    "from matplotlib.collections import LineCollection\n",
    "from matplotlib.colors import ListedColormap, BoundaryNorm\n",
    "import matplotlib.colors as colors\n",
    "import jdcal\n",
    "import mx.DateTime as dt\n",
    "\n",
    "# datetime.datetime.ctime\n",
    "\n",
    "deltaD = EpochA - min(EpochA)\n",
    "jd = [d.total_seconds() for d in deltaD]\n",
    "x = np.asarray(jd)/60.0/60.0\n",
    "y = np.array(L89QA).flatten()\n",
    "t = np.array(K89QA).flatten()\n",
    "\n",
    "\n",
    "xa = x\n",
    "ya = y\n",
    "ta = t\n",
    "\n",
    "lc1 = get_col(xa,ya,ta)\n",
    "deltaD = EpochB - min(EpochB)\n",
    "\n",
    "jd = [d.total_seconds() for d in deltaD]\n",
    "x2 = np.asarray(jd)/60.0/60.0\n",
    "y2 = np.array(L89QB).flatten()\n",
    "t2 = np.array(K89QB).flatten()\n",
    "\n",
    "xa = x2\n",
    "ya = y2\n",
    "ta = t2\n",
    "\n",
    "lc2 = get_col(xa,ya,ta)"
   ]
  },
  {
   "cell_type": "code",
   "execution_count": null,
   "metadata": {},
   "outputs": [],
   "source": [
    "fig2 = plt.figure(figsize=(10,5))\n",
    "ax = fig2.gca()\n",
    "\n",
    "ax.add_collection(lc1)\n",
    "ax.add_collection(lc2)\n",
    "axcb = fig2.colorbar(lc1)\n",
    "axcb.set_label('K (T89)')\n",
    "\n",
    "plt.xlim(np.min(xa), np.max(xa))\n",
    "plt.ylim(1, 5.5)\n",
    "ax.set_title(\"K on RBSP T89 L* Values (From CDAWEB Data)\")\n",
    "ax.set_ylabel(\"$L^*(T89)$\")\n",
    "ax.set_xlabel(\"Hour of Day (02 Oct 2013)\")\n",
    "fig2.tight_layout()\n",
    "plt.grid(b=True, which='major', color='grey', linewidth=0.25, linestyle=':')\n",
    "plt.show()\n",
    "fig2.savefig(pathout+\"RBSP_T89_Color_Lstar.pdf\")"
   ]
  },
  {
   "cell_type": "code",
   "execution_count": null,
   "metadata": {
    "collapsed": true
   },
   "outputs": [],
   "source": [
    "ephemA = pycdf.CDF(path+\"rbsp-a_magnetometer_hires-sm_emfisis-l3_20131002_v1.3.4.cdf\")\n",
    "ephemB = pycdf.CDF(path+\"rbsp-b_magnetometer_hires-sm_emfisis-l3_20131002_v1.6.1.cdf\")"
   ]
  },
  {
   "cell_type": "code",
   "execution_count": null,
   "metadata": {
    "collapsed": true
   },
   "outputs": [],
   "source": [
    "print(ephemB)"
   ]
  },
  {
   "cell_type": "code",
   "execution_count": null,
   "metadata": {
    "collapsed": true
   },
   "outputs": [],
   "source": [
    "pts_EPOCH_a = (ephemA['Epoch'][...])[0::(60*60)].copy()\n",
    "pts_EPOCH_b = (ephemB['Epoch'][...])[0::(60*60)].copy()\n",
    "\n",
    "pts_sm_a = (ephemA['coordinates'][...])[0::(60*60)].copy()\n",
    "pts_sm_b = (ephemB['coordinates'][...])[0::(60*60)].copy()"
   ]
  },
  {
   "cell_type": "code",
   "execution_count": null,
   "metadata": {
    "collapsed": true
   },
   "outputs": [],
   "source": [
    "pickle.dump(pts_EPOCH_a, open(\"pts_EPOCH_a.pickle\", \"wb\"))\n",
    "pickle.dump(pts_EPOCH_b, open(\"pts_EPOCH_b.pickle\", \"wb\"))\n",
    "pickle.dump(pts_sm_a, open(\"pts_sm_a.pickle\", \"wb\"))\n",
    "pickle.dump(pts_sm_b, open(\"pts_sm_b.pickle\", \"wb\"))\n"
   ]
  },
  {
   "cell_type": "code",
   "execution_count": null,
   "metadata": {
    "collapsed": true
   },
   "outputs": [],
   "source": [
    "print(len(pts_EPOCH_a))"
   ]
  },
  {
   "cell_type": "code",
   "execution_count": null,
   "metadata": {
    "collapsed": true
   },
   "outputs": [],
   "source": [
    "import ghostpy.algorithms.common as algc\n",
    "import ghostpy.algorithms.DipoleField as dpf\n",
    "import ghostpy.Invariants.FieldLine as fl\n",
    "import ghostpy.Invariants.LShell as ls\n",
    "import ghostpy.data.DipoleData as dpd\n",
    "import ghostpy.data.VtkData as vdt"
   ]
  },
  {
   "cell_type": "code",
   "execution_count": null,
   "metadata": {
    "collapsed": true
   },
   "outputs": [],
   "source": [
    "\n",
    "ptr = pts_sm_a/6371\n",
    "data = vdt.VtkData(filename=\"../unit_tests/test_data/lfm_dipole_test_quad.vts\", vector=\"B\")\n",
    "\n",
    "dL = []\n",
    "dK = []\n",
    "dB = []\n",
    "for pt in ptr:\n",
    "    lsx = ls.LShell(data=data, start_loc=pt)\n",
    "    dK.append(lsx.k)\n",
    "    dB.append(lsx.b)\n",
    "    dL.append(lsx.l_star(res=1000))\n",
    "    print (\"Footprint: {}\\nL:{}\".format(fp, dL[-1]))\n",
    "\n"
   ]
  },
  {
   "cell_type": "code",
   "execution_count": null,
   "metadata": {
    "collapsed": true
   },
   "outputs": [],
   "source": [
    "ptr = pts_sm_b/6371.0\n",
    "\n",
    "dL2 = []\n",
    "dK2 = []\n",
    "dB2 = []\n",
    "for pt in ptr:\n",
    "    lsx = ls.LShell(data=data, start_loc=pt)\n",
    "    dK2.append(lsx.k)\n",
    "    dB2.append(lsx.b)\n",
    "    dL2.append(lsx.l_star(res=1000))\n",
    "    print (\"Footprint: {}\\nL:{}\".format(fp, dL[-1]))\n",
    "\n"
   ]
  },
  {
   "cell_type": "code",
   "execution_count": null,
   "metadata": {
    "collapsed": true
   },
   "outputs": [],
   "source": [
    "deltaD = pts_EPOCH_a - min(pts_EPOCH_a)\n",
    "jd = [d.total_seconds() for d in deltaD]\n",
    "x = np.asarray(jd)/60.0/60.0\n",
    "y = np.asarray(dL)\n",
    "t = np.asarray(dK)\n",
    "ldA = get_col(x,y,t)\n"
   ]
  },
  {
   "cell_type": "code",
   "execution_count": null,
   "metadata": {
    "collapsed": true
   },
   "outputs": [],
   "source": [
    "deltaD = pts_EPOCH_b - min(pts_EPOCH_b)\n",
    "jd = [d.total_seconds() for d in deltaD]\n",
    "x = np.asarray(jd)/60.0/60.0\n",
    "y = np.asarray(dL2)\n",
    "t = np.asarray(dK2)\n",
    "ldB = get_col(x,y,t)\n",
    "\n"
   ]
  },
  {
   "cell_type": "code",
   "execution_count": null,
   "metadata": {
    "collapsed": true
   },
   "outputs": [],
   "source": [
    "fig = plt.figure(figsize=[10,5])\n",
    "ax = fig.add_subplot(111)\n",
    "\n",
    "\n",
    "\n",
    "fig.tight_layout()"
   ]
  },
  {
   "cell_type": "code",
   "execution_count": null,
   "metadata": {
    "collapsed": true
   },
   "outputs": [],
   "source": [
    "print a"
   ]
  },
  {
   "cell_type": "code",
   "execution_count": null,
   "metadata": {
    "collapsed": true
   },
   "outputs": [],
   "source": [
    "c = a-b"
   ]
  },
  {
   "cell_type": "code",
   "execution_count": null,
   "metadata": {
    "collapsed": true
   },
   "outputs": [],
   "source": [
    "c"
   ]
  },
  {
   "cell_type": "code",
   "execution_count": null,
   "metadata": {
    "collapsed": true
   },
   "outputs": [],
   "source": [
    "c.total_seconds()"
   ]
  },
  {
   "cell_type": "code",
   "execution_count": null,
   "metadata": {
    "collapsed": true
   },
   "outputs": [],
   "source": [
    "help(jdcal)"
   ]
  },
  {
   "cell_type": "code",
   "execution_count": null,
   "metadata": {
    "collapsed": true
   },
   "outputs": [],
   "source": [
    "RBSPA_dat = pickle.load(open(\"./RBSP_LFM/RBSPA_LFM_LKB.pickle\", \"rb\"))\n",
    "RBSPB_dat = pickle.load(open(\"./RBSP_LFM/RBSPB_LFM_LKB.pickle\", \"rb\"))\n",
    "\n"
   ]
  },
  {
   "cell_type": "code",
   "execution_count": null,
   "metadata": {},
   "outputs": [],
   "source": [
    "print(len(RBSPA_dat))"
   ]
  },
  {
   "cell_type": "code",
   "execution_count": null,
   "metadata": {
    "collapsed": true
   },
   "outputs": [],
   "source": [
    "RBaL4 = {}\n",
    "RBaL = {}\n",
    "RBaK = {}\n",
    "RBbL4 = {}\n",
    "RBbL = {}\n",
    "RBbK = {}\n",
    "for rank in RBSPA_dat:\n",
    "    for key in rank:\n",
    "        K = rank[key][2]\n",
    "        if K is None:\n",
    "            K = np.NaN\n",
    "\n",
    "        RBaL4[key] = rank[key][0]\n",
    "        RBaL[key] = rank[key][1]\n",
    "        RBaK[key] = K\n",
    "        \n",
    "for rank in RBSPB_dat:\n",
    "    for key in rank:\n",
    "        K = rank[key][2]\n",
    "        if K is None:\n",
    "            K = np.NaN\n",
    "        RBbL4[key] = rank[key][0]\n",
    "        RBbL[key] = rank[key][1]\n",
    "        RBbK[key] = K\n",
    "        \n"
   ]
  },
  {
   "cell_type": "code",
   "execution_count": null,
   "metadata": {},
   "outputs": [],
   "source": [
    "\n",
    "Xa = []\n",
    "Ya = []\n",
    "lkeys = sorted(RBaL.keys())\n",
    "\n",
    "for key in lkeys:\n",
    "    Xa.append(key)\n",
    "    Ya.append(RBaL[key])\n",
    "    \n",
    "Xb = []\n",
    "Yb = []\n",
    "lkeys = sorted(RBbL.keys())\n",
    "\n",
    "for key in lkeys:\n",
    "    Xb.append(key)\n",
    "    Yb.append(RBbL[key])\n",
    "\n",
    "figL = plt.figure(figsize=[10,5])\n",
    "axL = figL.add_subplot(111)\n",
    "axL.plot(Xa, Ya, label=\"RBSP A\", lw=1.5)\n",
    "axL.plot(Xb, Yb, label=\"RBSP B\", lw=1.5)\n",
    "axL.set_title(\"RBSP LFM L* Values (From CDAWEB RBSP Data)\")\n",
    "\n",
    "\n",
    "plt.grid(b=True, which='major', color='grey', linewidth=0.25, linestyle=':')\n",
    "\n"
   ]
  },
  {
   "cell_type": "code",
   "execution_count": null,
   "metadata": {
    "collapsed": true
   },
   "outputs": [],
   "source": []
  },
  {
   "cell_type": "code",
   "execution_count": null,
   "metadata": {
    "collapsed": true
   },
   "outputs": [],
   "source": []
  }
 ],
 "metadata": {
  "kernelspec": {
   "display_name": "Python 2",
   "language": "python",
   "name": "python2"
  },
  "language_info": {
   "codemirror_mode": {
    "name": "ipython",
    "version": 2
   },
   "file_extension": ".py",
   "mimetype": "text/x-python",
   "name": "python",
   "nbconvert_exporter": "python",
   "pygments_lexer": "ipython2",
   "version": "2.7.13"
  }
 },
 "nbformat": 4,
 "nbformat_minor": 2
}
